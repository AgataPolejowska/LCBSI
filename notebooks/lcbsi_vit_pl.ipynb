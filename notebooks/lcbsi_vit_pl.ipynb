{
 "cells": [
  {
   "cell_type": "markdown",
   "metadata": {
    "id": "E_-UKLLTUJIP"
   },
   "source": [
    "## Leukocytes Image Classification with <b>Vision Transformer from Hugging Face \ud83e\udd17</b> and Pytorch Lightning\u26a1\n",
    "![img](https://assets.stickpng.com/images/6308b84661b3e2a522f01468.png)\n",
    "***\n",
    "Computer vision project _Leukocytes classification from blood smear images - LCBSI_\n",
    "\n",
    "\n",
    "The notebook author: @AgataPolejowska"
   ]
  },
  {
   "cell_type": "markdown",
   "metadata": {
    "id": "Sp4ZN5p9UJIf"
   },
   "source": [
    "### \ud83d\udd28 \ud83d\udcc1 Setup the environment - install and import essential packages\n",
    "\n",
    "It is recommended to run the notebook within `lcbsi` environment created using the `environment.yml` file provided in the root directory of the project. The instructions for installing the environment are contained in `README.md` file."
   ]
  },
  {
   "cell_type": "code",
   "execution_count": null,
   "metadata": {
    "id": "rzrsbIQHzTPh"
   },
   "outputs": [],
   "source": [
    "!pip install -q transformers datasets\n",
    "!pip install -q huggingface_hub\n",
    "!python -c \"import wandb\" || pip install -q wandb\n",
    "!python -c \"import roboflow\" || pip install -q roboflow\n",
    "\n",
    "!pip install -U -q torch\n",
    "!pip install -U -q torchvision\n",
    "!pip install -U -q torchmetrics\n",
    "\n",
    "!python -c \"import pytorch_lightning\" || pip install -q pytorch-lightning\n",
    "\n",
    "!python -c \"import matplotlib\" || pip install -q matplotlib"
   ]
  },
  {
   "cell_type": "code",
   "execution_count": null,
   "metadata": {
    "colab": {
     "base_uri": "https://localhost:8080/"
    },
    "id": "H5YS5HCLUJIk",
    "outputId": "3c7a4ece-3703-433b-903c-0e5390a54d2a"
   },
   "outputs": [],
   "source": [
    "import matplotlib.pyplot as plt\n",
    "import numpy as np\n",
    "import PIL\n",
    "import plotly.express as px\n",
    "import pytorch_lightning as pl\n",
    "import seaborn as sns\n",
    "import torch\n",
    "import torch.nn as nn\n",
    "import torchmetrics\n",
    "import torchvision\n",
    "from datasets import load_dataset\n",
    "from roboflow import Roboflow\n",
    "from sklearn.metrics import accuracy_score, classification_report, confusion_matrix\n",
    "from torch.utils.data import DataLoader\n",
    "from torchvision import transforms\n",
    "from torchvision.datasets import ImageFolder\n",
    "from transformers import AdamW, AutoFeatureExtractor, ViTForImageClassification\n",
    "\n",
    "print(torch.__version__)\n",
    "print(torchvision.__version__)\n",
    "print(torchmetrics.__version__)\n",
    "\n",
    "print(pl.__version__)\n",
    "\n",
    "\n",
    "sns.set_style()\n",
    ""
   ]
  },
  {
   "attachments": {},
   "cell_type": "markdown",
   "metadata": {
    "id": "H-Mbiw0SUJIw"
   },
   "source": [
    "### \ud83d\udce3\ud83d\udcc9\ud83d\udcc8  Configure W&B for results monitoring\n",
    "![img](https://raw.githubusercontent.com/wandb/assets/main/wandb-logo-yellow-dots-black-wb.svg)\n",
    "\n",
    "Weight and Biases is used as a MLOps platform in order to track the experiments results."
   ]
  },
  {
   "cell_type": "code",
   "execution_count": null,
   "metadata": {
    "colab": {
     "base_uri": "https://localhost:8080/",
     "height": 145
    },
    "id": "f6etVgs6UJIy",
    "outputId": "4ee240da-c263-40d0-f3a0-23087b93df79"
   },
   "outputs": [],
   "source": [
    "import wandb\n",
    "\n",
    "wandb.login()\n",
    "\n",
    "PROJECT = \"lcbsi-vit-pl\"\n",
    "ENTITY = \"polejowska\"\n",
    "\n",
    "wandb.init(project=PROJECT, entity=ENTITY)\n",
    ""
   ]
  },
  {
   "cell_type": "code",
   "execution_count": null,
   "metadata": {
    "colab": {
     "base_uri": "https://localhost:8080/"
    },
    "id": "m7H1OCvcUJI1",
    "outputId": "6c31be50-995f-466b-8b62-af3f4d65227b"
   },
   "outputs": [],
   "source": [
    "from pytorch_lightning.callbacks import EarlyStopping, ModelCheckpoint\n",
    "from pytorch_lightning.loggers import WandbLogger\n",
    "\n",
    "wandb_logger = WandbLogger(project=PROJECT, log_model=\"all\", score=\"accuracy\")\n",
    "\n",
    "\n",
    "early_stopping_callback = EarlyStopping(\n",
    "    monitor=\"val_loss\", min_delta=0.00, patience=3, verbose=False, mode=\"min\"\n",
    ")\n",
    "\n",
    "checkpoint_callback = ModelCheckpoint(monitor=\"val_acc\", mode=\"max\")\n",
    ""
   ]
  },
  {
   "cell_type": "markdown",
   "metadata": {
    "id": "egzB6G39UJI2"
   },
   "source": [
    "### \ud83c\udf31 Ensure results reproducibility by setting the seed for Pytorch Lightning"
   ]
  },
  {
   "cell_type": "code",
   "execution_count": null,
   "metadata": {
    "colab": {
     "base_uri": "https://localhost:8080/"
    },
    "id": "f8JNUd6zUJI2",
    "outputId": "b42e5cb7-9902-4bd2-88be-4965ccc8929f"
   },
   "outputs": [],
   "source": [
    "pl.seed_everything(0)\n",
    ""
   ]
  },
  {
   "cell_type": "markdown",
   "metadata": {
    "id": "_qAjKaIkUJI3"
   },
   "source": [
    "### \ud83d\udd27\ud83d\udd12 Create Pytorch Lightning DataModule - LeukocytesDataModule\n",
    "\n",
    "This module is created so that all the steps needed to process data are encapsulated and easily reusable.\n",
    "\n",
    "Within this module the following can be performed:\n",
    "- setting up the dataset by dowloading it from Roboflow\n",
    "- getting essential information about the dataset\n",
    "- visualizing sample images from the dataset\n",
    "- logging to wandb information about the dataset\n",
    "- <b>getting dataloaders and datasets<b>"
   ]
  },
  {
   "cell_type": "code",
   "execution_count": null,
   "metadata": {
    "id": "wweDNtFNUJI3"
   },
   "outputs": [],
   "source": [
    "class LeukocytesDataModule(pl.LightningDataModule):\n",
    "    def __init__(\n",
    "        self,\n",
    "        batch_size: int = 32,\n",
    "        num_workers: int = 4,\n",
    "        num_classes: int = 5,\n",
    "    ):\n",
    "        super().__init__()\n",
    "        self.batch_size = batch_size\n",
    "        self.num_classes = num_classes\n",
    "        self.num_workers = num_workers\n",
    "\n",
    "    def setup(self):\n",
    "        rf = Roboflow(api_key=\"3a7r2eyLT0LA2P5AUyvr\")\n",
    "        workspace = rf.workspace(\"lcbsiwbc\")\n",
    "\n",
    "        project_train = workspace.project(\"lcbsi-wbc-train\")\n",
    "        dataset_train = project_train.version(1).download(\"folder\")\n",
    "\n",
    "        project_valid = workspace.project(\"lcbsi-wbc-valid\")\n",
    "        dataset_valid = project_valid.version(1).download(\"folder\")\n",
    "\n",
    "        project_test = workspace.project(\"lcbsi-wbc\")\n",
    "        dataset_test = project_test.version(1).download(\"folder\")\n",
    "\n",
    "        self.data_dir = \"lcbsi_dataset\"\n",
    "        self.path_to_dataset = Path(self.data_dir)\n",
    "        os.makedirs(self.data_dir, exist_ok=True)\n",
    "\n",
    "        def move_folder(src, dst):\n",
    "            import shutil\n",
    "\n",
    "            for folder in os.listdir(src):\n",
    "                new_path = os.path.join(dst, folder)\n",
    "                if os.path.exists(new_path):\n",
    "                    # if is directory or file remove it\n",
    "                    if os.path.isdir(new_path):\n",
    "                        shutil.rmtree(new_path)\n",
    "                    else:\n",
    "                        os.remove(new_path)\n",
    "                os.rename(os.path.join(src, folder), new_path)\n",
    "\n",
    "        move_folder(dataset_train.location, self.data_dir)\n",
    "        move_folder(dataset_valid.location, self.data_dir)\n",
    "        move_folder(dataset_test.location, self.data_dir)\n",
    "\n",
    "        print(f\"Dataset downloaded to {self.data_dir}\")\n",
    "        print(f\"Path to dataset: {self.path_to_dataset}\")\n",
    "\n",
    "    def collate_fn(self, examples):\n",
    "        pixel_values = torch.stack([example[\"pixel_values\"] for example in examples])\n",
    "        labels = torch.tensor([example[\"label\"] for example in examples])\n",
    "        return {\"pixel_values\": pixel_values, \"labels\": labels}\n",
    "\n",
    "    def train_dataset(self, train_transforms):\n",
    "        self.train_dataset = ImageFolder(\n",
    "            self.path_to_dataset / \"train\", train_transforms\n",
    "        )\n",
    "        return self.train_dataset\n",
    "\n",
    "    def train_dataloader(self):\n",
    "        return DataLoader(\n",
    "            self.train_dataset,\n",
    "            batch_size=self.batch_size,\n",
    "            shuffle=True,\n",
    "            num_workers=self.num_workers,\n",
    "            collate_fn=self.collate_fn,\n",
    "        )\n",
    "\n",
    "    def val_dataset(self, val_transforms):\n",
    "        self.val_dataset = ImageFolder(self.path_to_dataset / \"valid\", val_transforms)\n",
    "        return self.val_dataset\n",
    "\n",
    "    def val_dataloader(self):\n",
    "        return DataLoader(\n",
    "            self.val_dataset,\n",
    "            batch_size=self.batch_size,\n",
    "            num_workers=self.num_workers,\n",
    "            collate_fn=self.collate_fn,\n",
    "        )\n",
    "\n",
    "    def test_dataset(self, val_transforms):\n",
    "        self.test_dataset = ImageFolder(self.path_to_dataset / \"test\", val_transforms)\n",
    "        return self.test_dataset\n",
    "\n",
    "    def test_dataloader(self):\n",
    "        return DataLoader(\n",
    "            self.test_dataset,\n",
    "            batch_size=self.batch_size,\n",
    "            num_workers=self.num_workers,\n",
    "            collate_fn=self.collate_fn,\n",
    "        )\n",
    "\n",
    "    def get_info_about_dowloaded_dataset(self):\n",
    "        version_information = self.project.get_version_information()\n",
    "        version = version_information[0]\n",
    "        print(f\"Dataset name: {version['name']}\")\n",
    "        print(f\"Dataset ID: {version['id']}\")\n",
    "        print(f\"Dataset splits: {version['images']}\")\n",
    "        print(f\"Dataset splits: {version['splits']}\")\n",
    "        print(f\"Dataset augmentations: {version['augmentation']}\")\n",
    "        print(f\"Dataset preprocessing: {version['preprocessing']}\")\n",
    "        wandb.config.update(\n",
    "            {\n",
    "                \"dataset_name\": version[\"name\"],\n",
    "                \"dataset_id\": version[\"id\"],\n",
    "                \"dataset_splits\": version[\"splits\"],\n",
    "                \"dataset_augmentations\": version[\"augmentation\"],\n",
    "                \"dataset_preprocessing\": version[\"preprocessing\"],\n",
    "            }\n",
    "        )\n",
    "\n",
    "    def visualize_dataset(self):\n",
    "        test_files = []\n",
    "        for name in self.class_names:\n",
    "            test_files.extend(\n",
    "                [\n",
    "                    os.path.join(self.data_dir, \"test\", name, x)\n",
    "                    for x in os.listdir(os.path.join(self.data_dir, \"test\", name))\n",
    "                ]\n",
    "            )\n",
    "        print(f\"Number of test files: {len(test_files)}\")\n",
    "\n",
    "        with PIL.Image.open(test_files[0]) as img:\n",
    "            img_size = img.size\n",
    "        print(f\"Image size: {img_size}\")\n",
    "\n",
    "        test_files = np.random.choice(test_files, 9, replace=False)\n",
    "        _, axes = plt.subplots(3, 3, figsize=(12, 12))\n",
    "        for i, file in enumerate(test_files):\n",
    "            with PIL.Image.open(file) as img:\n",
    "                ax = axes[i // 3, i % 3]\n",
    "                ax.set_title(os.path.basename(os.path.dirname(file)))\n",
    "                ax.imshow(img)\n",
    "                ax.axis(\"off\")\n",
    "                wandb.log({f\"test_images_{i}\": wandb.Image(img)})\n",
    "        plt.tight_layout()\n",
    "        plt.show()\n",
    "\n",
    "    def get_classes_info(self):\n",
    "        self.class_names = sorted(\n",
    "            [\n",
    "                name\n",
    "                for name in os.listdir(os.path.join(self.data_dir, \"test\"))\n",
    "                if os.path.isdir(os.path.join(self.data_dir, \"test\", name))\n",
    "            ]\n",
    "        )\n",
    "        num_classes = len(self.class_names)\n",
    "        print(f\"Class names: {self.class_names} ({num_classes} classes)\")\n",
    ""
   ]
  },
  {
   "cell_type": "code",
   "execution_count": null,
   "metadata": {
    "id": "BZ6wMHPnUJI4"
   },
   "outputs": [],
   "source": [
    "NUM_CLASSES = 5\n",
    "BATCH_SIZE = 32\n",
    ""
   ]
  },
  {
   "cell_type": "code",
   "execution_count": null,
   "metadata": {
    "colab": {
     "base_uri": "https://localhost:8080/"
    },
    "id": "3lhvUn7tUJI5",
    "outputId": "0a0911f6-d927-4597-9a61-29e307121279"
   },
   "outputs": [],
   "source": [
    "leukocytes_data_module = LeukocytesDataModule(\n",
    "    batch_size=BATCH_SIZE, num_classes=NUM_CLASSES\n",
    ")\n",
    "leukocytes_data_module.setup()\n",
    "leukocytes_data_module.log_module_data_to_wb()\n",
    ""
   ]
  },
  {
   "cell_type": "code",
   "execution_count": null,
   "metadata": {
    "colab": {
     "base_uri": "https://localhost:8080/",
     "height": 1000
    },
    "id": "hb9CJXCvUJI5",
    "outputId": "b770b62e-492d-443b-b054-c59c817a907a"
   },
   "outputs": [],
   "source": [
    "leukocytes_data_module.get_classes_info()\n",
    "leukocytes_data_module.get_info_about_dowloaded_dataset()\n",
    "leukocytes_data_module.visualize_dataset()\n",
    ""
   ]
  },
  {
   "cell_type": "markdown",
   "metadata": {
    "id": "dp1ZPH2MUJI6"
   },
   "source": [
    "### \ud83d\udd27 Configure dataset for Vision Transformer from Hugging Face \ud83e\udd17"
   ]
  },
  {
   "cell_type": "markdown",
   "metadata": {
    "id": "sEBjopvcUJI7"
   },
   "source": [
    "Fine-tuning is performed using Vision Transformer model checkpoint pre-trained on ImageNet-21k (_https://huggingface.co/google/vit-base-patch16-224-in21k_)."
   ]
  },
  {
   "cell_type": "code",
   "execution_count": null,
   "metadata": {
    "id": "U9mvidtQUJI8"
   },
   "outputs": [],
   "source": [
    "MODEL_CHECKPOINT_PATH = \"google/vit-base-patch16-224-in21k\"\n",
    "\n",
    "feature_extractor = AutoFeatureExtractor.from_pretrained(MODEL_CHECKPOINT_PATH)\n",
    "\n",
    "print(f\"Feature extractor type: {type(feature_extractor)}\")\n",
    "print(f\"Feature extractor config: {feature_extractor}\")\n",
    ""
   ]
  },
  {
   "cell_type": "code",
   "execution_count": null,
   "metadata": {
    "id": "GH8_HDT5UJI9"
   },
   "outputs": [],
   "source": [
    "VIT_INPUT_SIZE = feature_extractor.size\n",
    "print(f\"VIT input size: {VIT_INPUT_SIZE}\")\n",
    "\n",
    "RESIZE_TRANSFORM = transforms.Resize(\n",
    "    (VIT_INPUT_SIZE[\"width\"], VIT_INPUT_SIZE[\"height\"])\n",
    ")\n",
    "\n",
    "NORMALIZE_TRANSFORM = transforms.Normalize(\n",
    "    mean=feature_extractor.image_mean,\n",
    "    std=feature_extractor.image_std,\n",
    ")\n",
    "\n",
    "TRANSFORMS = transforms.Compose(\n",
    "    [\n",
    "        RESIZE_TRANSFORM,\n",
    "        transforms.ToTensor(),\n",
    "        NORMALIZE_TRANSFORM,\n",
    "    ]\n",
    ")\n",
    ""
   ]
  },
  {
   "cell_type": "code",
   "execution_count": null,
   "metadata": {
    "colab": {
     "base_uri": "https://localhost:8080/"
    },
    "id": "EvWf338qUJI9",
    "outputId": "cdf461f8-5db7-4340-fca9-856900749f05"
   },
   "outputs": [],
   "source": [
    "train_dataset = leukocytes_data_module.train_dataset(TRANSFORMS)\n",
    "train_loader = leukocytes_data_module.train_dataloader()\n",
    "\n",
    "val_dataset = leukocytes_data_module.val_dataset(TRANSFORMS)\n",
    "val_loader = leukocytes_data_module.val_dataloader()\n",
    "\n",
    "test_dataset = leukocytes_data_module.test_dataset(TRANSFORMS)\n",
    "test_loader = leukocytes_data_module.test_dataloader()\n",
    ""
   ]
  },
  {
   "attachments": {},
   "cell_type": "markdown",
   "metadata": {
    "id": "oVbf8n9kzTPr"
   },
   "source": [
    "### \ud83e\udd17 HuggingFace dataset setup\n",
    "\n",
    "The dataset can be pushed to  Hugging Face hub.\n",
    "\n",
    "\n",
    "The following section of the notebook loads the downloaded dataset from local directory, transforms the dataset appropriately (mapping).\n"
   ]
  },
  {
   "cell_type": "code",
   "execution_count": null,
   "metadata": {
    "id": "ch8xwsiw6E8u"
   },
   "outputs": [],
   "source": [
    "dataset = load_dataset(leukocytes_data_module.data_dir)\n",
    "dataset = dataset.map(\n",
    "    lambda example: {\n",
    "        \"pixel_values\": feature_extractor(\n",
    "            example[\"image\"], return_tensors=\"pt\"\n",
    "        ).pixel_values\n",
    "    },\n",
    "    batched=True,\n",
    ")\n",
    "dataset = dataset.map(\n",
    "    lambda example: {\"label\": leukocytes_data_module.class_names[int(example[\"label\"])]}\n",
    ")\n",
    "dataset = dataset.map(remove_columns=[\"image\"], batched=True)\n",
    "\n",
    "print(f\"Dataset: {dataset}\")\n",
    "dataset.push_to_hub(\"polejowska/lcbsi-leukocytes-dataset\")\n",
    ""
   ]
  },
  {
   "cell_type": "code",
   "execution_count": null,
   "metadata": {
    "id": "0Ox8FPsg65HZ"
   },
   "outputs": [],
   "source": [
    "dataset = load_dataset(\"polejowska/lcbsi-wbc\")\n",
    ""
   ]
  },
  {
   "cell_type": "code",
   "execution_count": null,
   "metadata": {
    "id": "Btu8pEIc6SML"
   },
   "outputs": [],
   "source": [
    "train_dataset = dataset[\"train\"]\n",
    "val_dataset = dataset[\"validation\"]\n",
    "test_dataset = dataset[\"test\"]\n",
    ""
   ]
  },
  {
   "cell_type": "code",
   "execution_count": null,
   "metadata": {
    "colab": {
     "base_uri": "https://localhost:8080/"
    },
    "id": "N0dcHmkI5zwO",
    "outputId": "09bf918b-3b9e-41a3-ab92-b11b053b6ed1"
   },
   "outputs": [],
   "source": [
    "id2label = {id: label for id, label in enumerate(train_dataset.features[\"label\"].names)}\n",
    "id2label\n",
    ""
   ]
  },
  {
   "cell_type": "code",
   "execution_count": null,
   "metadata": {
    "colab": {
     "base_uri": "https://localhost:8080/"
    },
    "id": "zsdCwGDs6Uap",
    "outputId": "9b4f957c-cc11-41bc-cc87-6aeef8cc05ca"
   },
   "outputs": [],
   "source": [
    "label2id = {label: id for id, label in id2label.items()}\n",
    "label2id\n",
    ""
   ]
  },
  {
   "cell_type": "code",
   "execution_count": null,
   "metadata": {
    "id": "MfhJTr6X8DxD"
   },
   "outputs": [],
   "source": [
    "def collate_fn(examples):\n",
    "    pixel_values = torch.stack([example[\"pixel_values\"] for example in examples])\n",
    "    labels = torch.tensor([example[\"label\"] for example in examples])\n",
    "    return {\"pixel_values\": pixel_values, \"labels\": labels}\n",
    ""
   ]
  },
  {
   "cell_type": "code",
   "execution_count": null,
   "metadata": {
    "id": "MarF-rQVzTPt"
   },
   "outputs": [],
   "source": [
    "train_dataloader = DataLoader(\n",
    "    train_dataset, shuffle=True, collate_fn=collate_fn, batch_size=TRAIN_BATCH_SIZE\n",
    ")\n",
    "val_dataloader = DataLoader(\n",
    "    val_dataset, collate_fn=collate_fn, batch_size=EVAL_BATCH_SIZE\n",
    ")\n",
    "test_dataloader = DataLoader(\n",
    "    test_dataset, collate_fn=collate_fn, batch_size=EVAL_BATCH_SIZE\n",
    ")\n",
    ""
   ]
  },
  {
   "cell_type": "code",
   "execution_count": null,
   "metadata": {
    "colab": {
     "base_uri": "https://localhost:8080/",
     "height": 345
    },
    "id": "kiEyUEK29MMO",
    "outputId": "5d9ef069-6ec4-40cd-8f50-e067380df741"
   },
   "outputs": [],
   "source": [
    "batch = next(iter(train_dataloader))\n",
    "for k, v in batch.items():\n",
    "    if isinstance(v, torch.Tensor):\n",
    "        print(k, v.shape)\n",
    ""
   ]
  },
  {
   "cell_type": "code",
   "execution_count": null,
   "metadata": {
    "id": "c9UG2IVY9PYG"
   },
   "outputs": [],
   "source": [
    "assert batch[\"pixel_values\"].shape == (TRAIN_BATCH_SIZE, 3, 224, 224)\n",
    "assert batch[\"labels\"].shape == (TRAIN_BATCH_SIZE,)\n",
    ""
   ]
  },
  {
   "cell_type": "code",
   "execution_count": null,
   "metadata": {
    "colab": {
     "base_uri": "https://localhost:8080/"
    },
    "id": "ffWUprs29Qmd",
    "outputId": "070c390f-9ee3-4d33-a7de-da28b3bf7028"
   },
   "outputs": [],
   "source": [
    "next(iter(val_dataloader))[\"pixel_values\"].shape\n",
    ""
   ]
  },
  {
   "cell_type": "markdown",
   "metadata": {
    "id": "dKL5qjtyUJI-"
   },
   "source": [
    "### \u270f\ufe0f\ud83d\udca1 Define the ViT model with PyTorch Lightning Module \u26a1"
   ]
  },
  {
   "cell_type": "code",
   "execution_count": null,
   "metadata": {
    "id": "qKNRx3zuUJI-"
   },
   "outputs": [],
   "source": [
    "class ViTLightningModule(pl.LightningModule):\n",
    "    def __init__(\n",
    "        self,\n",
    "        model_checkpoint_path,\n",
    "        num_classes,\n",
    "        criterion=nn.CrossEntropyLoss(),\n",
    "        learning_rate=5e-5,\n",
    "    ):\n",
    "        super(ViTLightningModule, self).__init__()\n",
    "        self.vit = ViTForImageClassification.from_pretrained(\n",
    "            model_checkpoint_path,\n",
    "            num_labels=num_classes,\n",
    "            id2label=id2label,\n",
    "            label2id=label2id,\n",
    "        )\n",
    "        self.dropout = nn.Dropout(0.1)\n",
    "        self.num_labels = num_classes\n",
    "        self.classifier = nn.Linear(self.vit.config.hidden_size, self.num_labels)\n",
    "        self.criterion = criterion\n",
    "        self.learning_rate = learning_rate\n",
    "        for name, param in self.vit.named_parameters():\n",
    "            if name not in [\"classifier.weight\", \"classifier.bias\"]:\n",
    "                param.requires_grad = False\n",
    "\n",
    "    def forward(self, pixel_values):\n",
    "        outputs = self.vit(pixel_values=pixel_values)\n",
    "        return outputs.logits\n",
    "\n",
    "    def configure_optimizers(self):\n",
    "        return AdamW(self.parameters(), lr=self.learning_rate)\n",
    "\n",
    "    def common_step(self, batch, batch_idx):\n",
    "        pixel_values = batch[\"pixel_values\"]\n",
    "        labels = batch[\"labels\"]\n",
    "        logits = self(pixel_values)\n",
    "        loss = self.criterion(logits, labels)\n",
    "        predictions = logits.argmax(-1)\n",
    "        correct = (predictions == labels).sum().item()\n",
    "        accuracy = correct / pixel_values.shape[0]\n",
    "        return loss, accuracy\n",
    "\n",
    "    def training_step(self, batch, batch_idx):\n",
    "        loss, accuracy = self.common_step(batch, batch_idx)\n",
    "        self.log(\"training_loss\", loss, on_step=True, on_epoch=True, logger=True)\n",
    "        self.log(\n",
    "            \"training_accuracy\", accuracy, on_step=True, on_epoch=True, logger=True\n",
    "        )\n",
    "        return loss\n",
    "\n",
    "    def validation_step(self, batch, batch_idx):\n",
    "        loss, accuracy = self.common_step(batch, batch_idx)\n",
    "        self.log(\"validation_loss\", loss, on_step=True, on_epoch=True, logger=True)\n",
    "        self.log(\n",
    "            \"validation_accuracy\", accuracy, on_step=True, on_epoch=True, logger=True\n",
    "        )\n",
    "        return loss\n",
    "\n",
    "    def test_step(self, batch, batch_idx):\n",
    "        loss, accuracy = self.common_step(batch, batch_idx)\n",
    "        self.log(\"test_loss\", loss, prog_bar=True, logger=True)\n",
    "        self.log(\"test_acc\", accuracy, prog_bar=True, logger=True)\n",
    "        return loss\n",
    "\n",
    "    def train_dataloader(self):\n",
    "        return train_dataloader\n",
    "\n",
    "    def val_dataloader(self):\n",
    "        return val_dataloader\n",
    "\n",
    "    def test_dataloader(self):\n",
    "        return test_dataloader\n",
    ""
   ]
  },
  {
   "cell_type": "code",
   "execution_count": null,
   "metadata": {
    "id": "WqPdNdBdzTPu"
   },
   "outputs": [],
   "source": [
    "model = ViTLightningModule(\n",
    "    model_checkpoint_path=MODEL_CHECKPOINT_PATH, num_classes=NUM_CLASSES\n",
    ")\n",
    "\n",
    "wandb_logger.watch(model)\n",
    ""
   ]
  },
  {
   "cell_type": "markdown",
   "metadata": {
    "id": "EdHMyvMMzTPu"
   },
   "source": [
    "### \ud83d\ude85\ud83d\udcaa Train the model using Pytorch Lightning \u26a1"
   ]
  },
  {
   "cell_type": "code",
   "execution_count": null,
   "metadata": {
    "id": "aWZnCF0RzTPv"
   },
   "outputs": [],
   "source": [
    "MAX_EPOCHS = 2\n",
    "LOG_EVERY_N_STEPS = 1\n",
    "CALLBACKS = [checkpoint_callback, early_stopping_callback]\n",
    ""
   ]
  },
  {
   "cell_type": "code",
   "execution_count": null,
   "metadata": {
    "colab": {
     "base_uri": "https://localhost:8080/",
     "height": 416,
     "referenced_widgets": [
      "c010ccbaab664b36959b5c1be617ebd5",
      "57b9a0e357584327aafa664bdaa1249f",
      "b57f806541db431bb5118dcc101d0660",
      "0af4ceb25a9442a9b9b2715ee31faa2f",
      "6d7057c741da454697bc1d5f83c2e15e",
      "fc851d5c55854442a258d484bfdd149c",
      "56d0c9579599487299c9e1efae4e0982",
      "d62dcd863773439ca3f152f464c4e8e2",
      "31dfd270d70e439bb3f95e75261daa05",
      "7b35c977206d4ce0bb162e50c043cb83",
      "77f25efdcd19471b97fc368c34d2976b",
      "1f4b34d13afb4c1c89245400592d0333",
      "9e1c2c6beb36453f948ad5ee6ebac437",
      "e20e2d889a3e4ca6b9918ce997310061",
      "d617a24cafaf4295b3a21a07c3bcb83d",
      "b6b4ea9f777948169c00a9846984ce91",
      "027b993a85414751936aee1ed1ae9c5a",
      "30c8692732114a73abe799852a8aa159",
      "4d8c695968804730a17174a17215f55c",
      "7589cf9282f74cf6a72dd0323180830c",
      "771cab3aca5d46f7a9d4a3fafb5988cc",
      "a36acd186cd64c8babe21838f99b8087"
     ]
    },
    "id": "cYiO92XGKCZq",
    "outputId": "f4a011bc-c123-41b4-dce6-d2082e21044a"
   },
   "outputs": [],
   "source": [
    "trainer = pl.Trainer(\n",
    "    max_epochs=MAX_EPOCHS,\n",
    "    enable_progress_bar=True,\n",
    "    enable_model_summary=True,\n",
    "    logger=wandb_logger,\n",
    "    callbacks=CALLBACKS,\n",
    "    log_every_n_steps=LOG_EVERY_N_STEPS,\n",
    ")\n",
    "\n",
    "trainer.fit(model)\n",
    ""
   ]
  },
  {
   "cell_type": "markdown",
   "metadata": {
    "id": "pfyYtK4BzTPv"
   },
   "source": [
    "### \ud83c\udfaf\ud83c\udfc6 Test the trained model"
   ]
  },
  {
   "cell_type": "code",
   "execution_count": null,
   "metadata": {
    "id": "G0_DlRl_zTPv"
   },
   "outputs": [],
   "source": [
    "trainer.test(model, test_loader)\n",
    ""
   ]
  },
  {
   "cell_type": "code",
   "execution_count": null,
   "metadata": {
    "id": "03JSfNrNzTPv"
   },
   "outputs": [],
   "source": [
    "logged_metrics = trainer.logged_metrics\n",
    "\n",
    "print(f\"Logged metrics: {logged_metrics}\")\n",
    "wandb.log(logged_metrics)\n",
    ""
   ]
  },
  {
   "cell_type": "code",
   "execution_count": null,
   "metadata": {
    "id": "GRnEcw4bzTPv"
   },
   "outputs": [],
   "source": [
    "y_pred = []\n",
    "y_true = []\n",
    "\n",
    "for batch in test_loader:\n",
    "    x, y = batch\n",
    "    y_hat = model.net(x.to(\"cpu\"))\n",
    "    y_pred.append(y_hat.cpu().detach().numpy())\n",
    "    y_true.append(y.cpu().detach().numpy())\n",
    "\n",
    "y_pred = np.concatenate(y_pred)\n",
    "y_true = np.concatenate(y_true)\n",
    "\n",
    "accuracy_score = accuracy_score(y_true, y_pred.argmax(axis=1))\n",
    "print(f\"Accuracy score: {accuracy_score}\")\n",
    "wandb.log({\"accuracy_score\": accuracy_score})\n",
    "\n",
    "classification_report = classification_report(y_true, y_pred.argmax(axis=1))\n",
    "print(f\"Classification report:\\n {classification_report}\")\n",
    "wandb.log({\"classification_report\": classification_report})\n",
    ""
   ]
  },
  {
   "cell_type": "code",
   "execution_count": null,
   "metadata": {
    "id": "qw71kSalzTPw"
   },
   "outputs": [],
   "source": [
    "cm = confusion_matrix(y_true, y_pred.argmax(axis=1))\n",
    "\n",
    "\n",
    "fig = px.imshow(cm, labels=dict(x=\"Predicted label\", y=\"True label\", color=\"Count\"))\n",
    "fig.update_layout(\n",
    "    title=\"Confusion matrix\",\n",
    "    xaxis_title=\"Predicted label\",\n",
    "    yaxis_title=\"True label\",\n",
    "    annotations=[\n",
    "        dict(\n",
    "            x=i,\n",
    "            y=j,\n",
    "            text=str(cm[j][i]),\n",
    "            showarrow=False,\n",
    "            font=dict(color=\"white\" if cm[j][i] > cm.max() / 2 else \"black\"),\n",
    "        )\n",
    "        for i in range(cm.shape[1])\n",
    "        for j in range(cm.shape[0])\n",
    "    ],\n",
    "    width=800,\n",
    "    height=800,\n",
    ")\n",
    "\n",
    "fig.show()\n",
    "\n",
    "wandb.log({\"confusion_matrix\": fig})\n",
    ""
   ]
  },
  {
   "cell_type": "code",
   "execution_count": null,
   "metadata": {
    "id": "Lq6ef6AszTPw"
   },
   "outputs": [],
   "source": [
    "wandb.log(\n",
    "    {\n",
    "        \"classification_report\": wandb.Html(\n",
    "            classification_report(y_true, y_pred.argmax(axis=1))\n",
    "        )\n",
    "    }\n",
    ")\n",
    "wandb.log(\n",
    "    {\n",
    "        \"confusion_matrix\": wandb.plot.confusion_matrix(\n",
    "            probs=None, y_true=y_true, preds=y_pred.argmax(axis=1)\n",
    "        )\n",
    "    }\n",
    ")\n",
    ""
   ]
  },
  {
   "cell_type": "markdown",
   "metadata": {
    "id": "9DnZ8S6uzTPw"
   },
   "source": [
    "### \ud83d\udce5 Save the model after training"
   ]
  },
  {
   "cell_type": "code",
   "execution_count": null,
   "metadata": {},
   "outputs": [],
   "source": [
    "torch.save(model.state_dict(), \"model_after_training.pt\")\n",
    "wandb.save(\"model_after_training.pt\")\n",
    ""
   ]
  },
  {
   "cell_type": "markdown",
   "metadata": {
    "id": "qHZ1mRRHzTPx"
   },
   "source": [
    "### \ud83d\udc4f Finish"
   ]
  },
  {
   "cell_type": "code",
   "execution_count": null,
   "metadata": {
    "id": "PgIlKCQczTPx"
   },
   "outputs": [],
   "source": [
    "wandb.finish()\n",
    ""
   ]
  }
 ],
 "metadata": {
  "colab": {
   "collapsed_sections": [
    "dKL5qjtyUJI-",
    "EdHMyvMMzTPu",
    "pfyYtK4BzTPv",
    "9DnZ8S6uzTPw",
    "qHZ1mRRHzTPx"
   ],
   "provenance": []
  },
  "kernelspec": {
   "display_name": "torch-vit",
   "language": "python",
   "name": "python3"
  },
  "language_info": {
   "codemirror_mode": {
    "name": "ipython",
    "version": 3
   },
   "file_extension": ".py",
   "mimetype": "text/x-python",
   "name": "python",
   "nbconvert_exporter": "python",
   "pygments_lexer": "ipython3",
   "version": "3.9.15"
  },
  "vscode": {
   "interpreter": {
    "hash": "37077e319547c428a21f7f64dbf6a75208f8e64ab39047710b4d1a0f651228d6"
   }
  },
  "widgets": {
   "application/vnd.jupyter.widget-state+json": {
    "027b993a85414751936aee1ed1ae9c5a": {
     "model_module": "@jupyter-widgets/base",
     "model_module_version": "1.2.0",
     "model_name": "LayoutModel",
     "state": {
      "_model_module": "@jupyter-widgets/base",
      "_model_module_version": "1.2.0",
      "_model_name": "LayoutModel",
      "_view_count": null,
      "_view_module": "@jupyter-widgets/base",
      "_view_module_version": "1.2.0",
      "_view_name": "LayoutView",
      "align_content": null,
      "align_items": null,
      "align_self": null,
      "border": null,
      "bottom": null,
      "display": null,
      "flex": null,
      "flex_flow": null,
      "grid_area": null,
      "grid_auto_columns": null,
      "grid_auto_flow": null,
      "grid_auto_rows": null,
      "grid_column": null,
      "grid_gap": null,
      "grid_row": null,
      "grid_template_areas": null,
      "grid_template_columns": null,
      "grid_template_rows": null,
      "height": null,
      "justify_content": null,
      "justify_items": null,
      "left": null,
      "margin": null,
      "max_height": null,
      "max_width": null,
      "min_height": null,
      "min_width": null,
      "object_fit": null,
      "object_position": null,
      "order": null,
      "overflow": null,
      "overflow_x": null,
      "overflow_y": null,
      "padding": null,
      "right": null,
      "top": null,
      "visibility": null,
      "width": null
     }
    },
    "0af4ceb25a9442a9b9b2715ee31faa2f": {
     "model_module": "@jupyter-widgets/controls",
     "model_module_version": "1.5.0",
     "model_name": "HTMLModel",
     "state": {
      "_dom_classes": [],
      "_model_module": "@jupyter-widgets/controls",
      "_model_module_version": "1.5.0",
      "_model_name": "HTMLModel",
      "_view_count": null,
      "_view_module": "@jupyter-widgets/controls",
      "_view_module_version": "1.5.0",
      "_view_name": "HTMLView",
      "description": "",
      "description_tooltip": null,
      "layout": "IPY_MODEL_7b35c977206d4ce0bb162e50c043cb83",
      "placeholder": "\u200b",
      "style": "IPY_MODEL_77f25efdcd19471b97fc368c34d2976b",
      "value": " 2/2 [00:03&lt;00:00,  1.62s/it]"
     }
    },
    "1f4b34d13afb4c1c89245400592d0333": {
     "model_module": "@jupyter-widgets/controls",
     "model_module_version": "1.5.0",
     "model_name": "HBoxModel",
     "state": {
      "_dom_classes": [],
      "_model_module": "@jupyter-widgets/controls",
      "_model_module_version": "1.5.0",
      "_model_name": "HBoxModel",
      "_view_count": null,
      "_view_module": "@jupyter-widgets/controls",
      "_view_module_version": "1.5.0",
      "_view_name": "HBoxView",
      "box_style": "",
      "children": [
       "IPY_MODEL_9e1c2c6beb36453f948ad5ee6ebac437",
       "IPY_MODEL_e20e2d889a3e4ca6b9918ce997310061",
       "IPY_MODEL_d617a24cafaf4295b3a21a07c3bcb83d"
      ],
      "layout": "IPY_MODEL_b6b4ea9f777948169c00a9846984ce91"
     }
    },
    "30c8692732114a73abe799852a8aa159": {
     "model_module": "@jupyter-widgets/controls",
     "model_module_version": "1.5.0",
     "model_name": "DescriptionStyleModel",
     "state": {
      "_model_module": "@jupyter-widgets/controls",
      "_model_module_version": "1.5.0",
      "_model_name": "DescriptionStyleModel",
      "_view_count": null,
      "_view_module": "@jupyter-widgets/base",
      "_view_module_version": "1.2.0",
      "_view_name": "StyleView",
      "description_width": ""
     }
    },
    "31dfd270d70e439bb3f95e75261daa05": {
     "model_module": "@jupyter-widgets/controls",
     "model_module_version": "1.5.0",
     "model_name": "ProgressStyleModel",
     "state": {
      "_model_module": "@jupyter-widgets/controls",
      "_model_module_version": "1.5.0",
      "_model_name": "ProgressStyleModel",
      "_view_count": null,
      "_view_module": "@jupyter-widgets/base",
      "_view_module_version": "1.2.0",
      "_view_name": "StyleView",
      "bar_color": null,
      "description_width": ""
     }
    },
    "4d8c695968804730a17174a17215f55c": {
     "model_module": "@jupyter-widgets/base",
     "model_module_version": "1.2.0",
     "model_name": "LayoutModel",
     "state": {
      "_model_module": "@jupyter-widgets/base",
      "_model_module_version": "1.2.0",
      "_model_name": "LayoutModel",
      "_view_count": null,
      "_view_module": "@jupyter-widgets/base",
      "_view_module_version": "1.2.0",
      "_view_name": "LayoutView",
      "align_content": null,
      "align_items": null,
      "align_self": null,
      "border": null,
      "bottom": null,
      "display": null,
      "flex": "2",
      "flex_flow": null,
      "grid_area": null,
      "grid_auto_columns": null,
      "grid_auto_flow": null,
      "grid_auto_rows": null,
      "grid_column": null,
      "grid_gap": null,
      "grid_row": null,
      "grid_template_areas": null,
      "grid_template_columns": null,
      "grid_template_rows": null,
      "height": null,
      "justify_content": null,
      "justify_items": null,
      "left": null,
      "margin": null,
      "max_height": null,
      "max_width": null,
      "min_height": null,
      "min_width": null,
      "object_fit": null,
      "object_position": null,
      "order": null,
      "overflow": null,
      "overflow_x": null,
      "overflow_y": null,
      "padding": null,
      "right": null,
      "top": null,
      "visibility": null,
      "width": null
     }
    },
    "56d0c9579599487299c9e1efae4e0982": {
     "model_module": "@jupyter-widgets/controls",
     "model_module_version": "1.5.0",
     "model_name": "DescriptionStyleModel",
     "state": {
      "_model_module": "@jupyter-widgets/controls",
      "_model_module_version": "1.5.0",
      "_model_name": "DescriptionStyleModel",
      "_view_count": null,
      "_view_module": "@jupyter-widgets/base",
      "_view_module_version": "1.2.0",
      "_view_name": "StyleView",
      "description_width": ""
     }
    },
    "57b9a0e357584327aafa664bdaa1249f": {
     "model_module": "@jupyter-widgets/controls",
     "model_module_version": "1.5.0",
     "model_name": "HTMLModel",
     "state": {
      "_dom_classes": [],
      "_model_module": "@jupyter-widgets/controls",
      "_model_module_version": "1.5.0",
      "_model_name": "HTMLModel",
      "_view_count": null,
      "_view_module": "@jupyter-widgets/controls",
      "_view_module_version": "1.5.0",
      "_view_name": "HTMLView",
      "description": "",
      "description_tooltip": null,
      "layout": "IPY_MODEL_fc851d5c55854442a258d484bfdd149c",
      "placeholder": "\u200b",
      "style": "IPY_MODEL_56d0c9579599487299c9e1efae4e0982",
      "value": "Sanity Checking DataLoader 0: 100%"
     }
    },
    "6d7057c741da454697bc1d5f83c2e15e": {
     "model_module": "@jupyter-widgets/base",
     "model_module_version": "1.2.0",
     "model_name": "LayoutModel",
     "state": {
      "_model_module": "@jupyter-widgets/base",
      "_model_module_version": "1.2.0",
      "_model_name": "LayoutModel",
      "_view_count": null,
      "_view_module": "@jupyter-widgets/base",
      "_view_module_version": "1.2.0",
      "_view_name": "LayoutView",
      "align_content": null,
      "align_items": null,
      "align_self": null,
      "border": null,
      "bottom": null,
      "display": "inline-flex",
      "flex": null,
      "flex_flow": "row wrap",
      "grid_area": null,
      "grid_auto_columns": null,
      "grid_auto_flow": null,
      "grid_auto_rows": null,
      "grid_column": null,
      "grid_gap": null,
      "grid_row": null,
      "grid_template_areas": null,
      "grid_template_columns": null,
      "grid_template_rows": null,
      "height": null,
      "justify_content": null,
      "justify_items": null,
      "left": null,
      "margin": null,
      "max_height": null,
      "max_width": null,
      "min_height": null,
      "min_width": null,
      "object_fit": null,
      "object_position": null,
      "order": null,
      "overflow": null,
      "overflow_x": null,
      "overflow_y": null,
      "padding": null,
      "right": null,
      "top": null,
      "visibility": "hidden",
      "width": "100%"
     }
    },
    "7589cf9282f74cf6a72dd0323180830c": {
     "model_module": "@jupyter-widgets/controls",
     "model_module_version": "1.5.0",
     "model_name": "ProgressStyleModel",
     "state": {
      "_model_module": "@jupyter-widgets/controls",
      "_model_module_version": "1.5.0",
      "_model_name": "ProgressStyleModel",
      "_view_count": null,
      "_view_module": "@jupyter-widgets/base",
      "_view_module_version": "1.2.0",
      "_view_name": "StyleView",
      "bar_color": null,
      "description_width": ""
     }
    },
    "771cab3aca5d46f7a9d4a3fafb5988cc": {
     "model_module": "@jupyter-widgets/base",
     "model_module_version": "1.2.0",
     "model_name": "LayoutModel",
     "state": {
      "_model_module": "@jupyter-widgets/base",
      "_model_module_version": "1.2.0",
      "_model_name": "LayoutModel",
      "_view_count": null,
      "_view_module": "@jupyter-widgets/base",
      "_view_module_version": "1.2.0",
      "_view_name": "LayoutView",
      "align_content": null,
      "align_items": null,
      "align_self": null,
      "border": null,
      "bottom": null,
      "display": null,
      "flex": null,
      "flex_flow": null,
      "grid_area": null,
      "grid_auto_columns": null,
      "grid_auto_flow": null,
      "grid_auto_rows": null,
      "grid_column": null,
      "grid_gap": null,
      "grid_row": null,
      "grid_template_areas": null,
      "grid_template_columns": null,
      "grid_template_rows": null,
      "height": null,
      "justify_content": null,
      "justify_items": null,
      "left": null,
      "margin": null,
      "max_height": null,
      "max_width": null,
      "min_height": null,
      "min_width": null,
      "object_fit": null,
      "object_position": null,
      "order": null,
      "overflow": null,
      "overflow_x": null,
      "overflow_y": null,
      "padding": null,
      "right": null,
      "top": null,
      "visibility": null,
      "width": null
     }
    },
    "77f25efdcd19471b97fc368c34d2976b": {
     "model_module": "@jupyter-widgets/controls",
     "model_module_version": "1.5.0",
     "model_name": "DescriptionStyleModel",
     "state": {
      "_model_module": "@jupyter-widgets/controls",
      "_model_module_version": "1.5.0",
      "_model_name": "DescriptionStyleModel",
      "_view_count": null,
      "_view_module": "@jupyter-widgets/base",
      "_view_module_version": "1.2.0",
      "_view_name": "StyleView",
      "description_width": ""
     }
    },
    "7b35c977206d4ce0bb162e50c043cb83": {
     "model_module": "@jupyter-widgets/base",
     "model_module_version": "1.2.0",
     "model_name": "LayoutModel",
     "state": {
      "_model_module": "@jupyter-widgets/base",
      "_model_module_version": "1.2.0",
      "_model_name": "LayoutModel",
      "_view_count": null,
      "_view_module": "@jupyter-widgets/base",
      "_view_module_version": "1.2.0",
      "_view_name": "LayoutView",
      "align_content": null,
      "align_items": null,
      "align_self": null,
      "border": null,
      "bottom": null,
      "display": null,
      "flex": null,
      "flex_flow": null,
      "grid_area": null,
      "grid_auto_columns": null,
      "grid_auto_flow": null,
      "grid_auto_rows": null,
      "grid_column": null,
      "grid_gap": null,
      "grid_row": null,
      "grid_template_areas": null,
      "grid_template_columns": null,
      "grid_template_rows": null,
      "height": null,
      "justify_content": null,
      "justify_items": null,
      "left": null,
      "margin": null,
      "max_height": null,
      "max_width": null,
      "min_height": null,
      "min_width": null,
      "object_fit": null,
      "object_position": null,
      "order": null,
      "overflow": null,
      "overflow_x": null,
      "overflow_y": null,
      "padding": null,
      "right": null,
      "top": null,
      "visibility": null,
      "width": null
     }
    },
    "9e1c2c6beb36453f948ad5ee6ebac437": {
     "model_module": "@jupyter-widgets/controls",
     "model_module_version": "1.5.0",
     "model_name": "HTMLModel",
     "state": {
      "_dom_classes": [],
      "_model_module": "@jupyter-widgets/controls",
      "_model_module_version": "1.5.0",
      "_model_name": "HTMLModel",
      "_view_count": null,
      "_view_module": "@jupyter-widgets/controls",
      "_view_module_version": "1.5.0",
      "_view_name": "HTMLView",
      "description": "",
      "description_tooltip": null,
      "layout": "IPY_MODEL_027b993a85414751936aee1ed1ae9c5a",
      "placeholder": "\u200b",
      "style": "IPY_MODEL_30c8692732114a73abe799852a8aa159",
      "value": "Epoch 0:  35%"
     }
    },
    "a36acd186cd64c8babe21838f99b8087": {
     "model_module": "@jupyter-widgets/controls",
     "model_module_version": "1.5.0",
     "model_name": "DescriptionStyleModel",
     "state": {
      "_model_module": "@jupyter-widgets/controls",
      "_model_module_version": "1.5.0",
      "_model_name": "DescriptionStyleModel",
      "_view_count": null,
      "_view_module": "@jupyter-widgets/base",
      "_view_module_version": "1.2.0",
      "_view_name": "StyleView",
      "description_width": ""
     }
    },
    "b57f806541db431bb5118dcc101d0660": {
     "model_module": "@jupyter-widgets/controls",
     "model_module_version": "1.5.0",
     "model_name": "FloatProgressModel",
     "state": {
      "_dom_classes": [],
      "_model_module": "@jupyter-widgets/controls",
      "_model_module_version": "1.5.0",
      "_model_name": "FloatProgressModel",
      "_view_count": null,
      "_view_module": "@jupyter-widgets/controls",
      "_view_module_version": "1.5.0",
      "_view_name": "ProgressView",
      "bar_style": "",
      "description": "",
      "description_tooltip": null,
      "layout": "IPY_MODEL_d62dcd863773439ca3f152f464c4e8e2",
      "max": 2,
      "min": 0,
      "orientation": "horizontal",
      "style": "IPY_MODEL_31dfd270d70e439bb3f95e75261daa05",
      "value": 2
     }
    },
    "b6b4ea9f777948169c00a9846984ce91": {
     "model_module": "@jupyter-widgets/base",
     "model_module_version": "1.2.0",
     "model_name": "LayoutModel",
     "state": {
      "_model_module": "@jupyter-widgets/base",
      "_model_module_version": "1.2.0",
      "_model_name": "LayoutModel",
      "_view_count": null,
      "_view_module": "@jupyter-widgets/base",
      "_view_module_version": "1.2.0",
      "_view_name": "LayoutView",
      "align_content": null,
      "align_items": null,
      "align_self": null,
      "border": null,
      "bottom": null,
      "display": "inline-flex",
      "flex": null,
      "flex_flow": "row wrap",
      "grid_area": null,
      "grid_auto_columns": null,
      "grid_auto_flow": null,
      "grid_auto_rows": null,
      "grid_column": null,
      "grid_gap": null,
      "grid_row": null,
      "grid_template_areas": null,
      "grid_template_columns": null,
      "grid_template_rows": null,
      "height": null,
      "justify_content": null,
      "justify_items": null,
      "left": null,
      "margin": null,
      "max_height": null,
      "max_width": null,
      "min_height": null,
      "min_width": null,
      "object_fit": null,
      "object_position": null,
      "order": null,
      "overflow": null,
      "overflow_x": null,
      "overflow_y": null,
      "padding": null,
      "right": null,
      "top": null,
      "visibility": null,
      "width": "100%"
     }
    },
    "c010ccbaab664b36959b5c1be617ebd5": {
     "model_module": "@jupyter-widgets/controls",
     "model_module_version": "1.5.0",
     "model_name": "HBoxModel",
     "state": {
      "_dom_classes": [],
      "_model_module": "@jupyter-widgets/controls",
      "_model_module_version": "1.5.0",
      "_model_name": "HBoxModel",
      "_view_count": null,
      "_view_module": "@jupyter-widgets/controls",
      "_view_module_version": "1.5.0",
      "_view_name": "HBoxView",
      "box_style": "",
      "children": [
       "IPY_MODEL_57b9a0e357584327aafa664bdaa1249f",
       "IPY_MODEL_b57f806541db431bb5118dcc101d0660",
       "IPY_MODEL_0af4ceb25a9442a9b9b2715ee31faa2f"
      ],
      "layout": "IPY_MODEL_6d7057c741da454697bc1d5f83c2e15e"
     }
    },
    "d617a24cafaf4295b3a21a07c3bcb83d": {
     "model_module": "@jupyter-widgets/controls",
     "model_module_version": "1.5.0",
     "model_name": "HTMLModel",
     "state": {
      "_dom_classes": [],
      "_model_module": "@jupyter-widgets/controls",
      "_model_module_version": "1.5.0",
      "_model_name": "HTMLModel",
      "_view_count": null,
      "_view_module": "@jupyter-widgets/controls",
      "_view_module_version": "1.5.0",
      "_view_name": "HTMLView",
      "description": "",
      "description_tooltip": null,
      "layout": "IPY_MODEL_771cab3aca5d46f7a9d4a3fafb5988cc",
      "placeholder": "\u200b",
      "style": "IPY_MODEL_a36acd186cd64c8babe21838f99b8087",
      "value": " 609/1740 [19:35&lt;36:23,  1.93s/it, loss=1.31, v_num=2]"
     }
    },
    "d62dcd863773439ca3f152f464c4e8e2": {
     "model_module": "@jupyter-widgets/base",
     "model_module_version": "1.2.0",
     "model_name": "LayoutModel",
     "state": {
      "_model_module": "@jupyter-widgets/base",
      "_model_module_version": "1.2.0",
      "_model_name": "LayoutModel",
      "_view_count": null,
      "_view_module": "@jupyter-widgets/base",
      "_view_module_version": "1.2.0",
      "_view_name": "LayoutView",
      "align_content": null,
      "align_items": null,
      "align_self": null,
      "border": null,
      "bottom": null,
      "display": null,
      "flex": "2",
      "flex_flow": null,
      "grid_area": null,
      "grid_auto_columns": null,
      "grid_auto_flow": null,
      "grid_auto_rows": null,
      "grid_column": null,
      "grid_gap": null,
      "grid_row": null,
      "grid_template_areas": null,
      "grid_template_columns": null,
      "grid_template_rows": null,
      "height": null,
      "justify_content": null,
      "justify_items": null,
      "left": null,
      "margin": null,
      "max_height": null,
      "max_width": null,
      "min_height": null,
      "min_width": null,
      "object_fit": null,
      "object_position": null,
      "order": null,
      "overflow": null,
      "overflow_x": null,
      "overflow_y": null,
      "padding": null,
      "right": null,
      "top": null,
      "visibility": null,
      "width": null
     }
    },
    "e20e2d889a3e4ca6b9918ce997310061": {
     "model_module": "@jupyter-widgets/controls",
     "model_module_version": "1.5.0",
     "model_name": "FloatProgressModel",
     "state": {
      "_dom_classes": [],
      "_model_module": "@jupyter-widgets/controls",
      "_model_module_version": "1.5.0",
      "_model_name": "FloatProgressModel",
      "_view_count": null,
      "_view_module": "@jupyter-widgets/controls",
      "_view_module_version": "1.5.0",
      "_view_name": "ProgressView",
      "bar_style": "",
      "description": "",
      "description_tooltip": null,
      "layout": "IPY_MODEL_4d8c695968804730a17174a17215f55c",
      "max": 1740,
      "min": 0,
      "orientation": "horizontal",
      "style": "IPY_MODEL_7589cf9282f74cf6a72dd0323180830c",
      "value": 609
     }
    },
    "fc851d5c55854442a258d484bfdd149c": {
     "model_module": "@jupyter-widgets/base",
     "model_module_version": "1.2.0",
     "model_name": "LayoutModel",
     "state": {
      "_model_module": "@jupyter-widgets/base",
      "_model_module_version": "1.2.0",
      "_model_name": "LayoutModel",
      "_view_count": null,
      "_view_module": "@jupyter-widgets/base",
      "_view_module_version": "1.2.0",
      "_view_name": "LayoutView",
      "align_content": null,
      "align_items": null,
      "align_self": null,
      "border": null,
      "bottom": null,
      "display": null,
      "flex": null,
      "flex_flow": null,
      "grid_area": null,
      "grid_auto_columns": null,
      "grid_auto_flow": null,
      "grid_auto_rows": null,
      "grid_column": null,
      "grid_gap": null,
      "grid_row": null,
      "grid_template_areas": null,
      "grid_template_columns": null,
      "grid_template_rows": null,
      "height": null,
      "justify_content": null,
      "justify_items": null,
      "left": null,
      "margin": null,
      "max_height": null,
      "max_width": null,
      "min_height": null,
      "min_width": null,
      "object_fit": null,
      "object_position": null,
      "order": null,
      "overflow": null,
      "overflow_x": null,
      "overflow_y": null,
      "padding": null,
      "right": null,
      "top": null,
      "visibility": null,
      "width": null
     }
    }
   }
  }
 },
 "nbformat": 4,
 "nbformat_minor": 1
}
